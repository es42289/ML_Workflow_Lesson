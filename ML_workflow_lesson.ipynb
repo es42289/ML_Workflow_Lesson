{
 "cells": [
  {
   "cell_type": "markdown",
   "id": "8e23386e",
   "metadata": {},
   "source": [
    "# Machine Learning Workflow Lesson\n",
    "\n",
    "Let’s create a simple multivariate classification logistic regression model using a real dataset. The dataset we will be using are the voting records from the 1984 United States Congress. The goal of the machine learning model will be to determine the political party of a senator based on their voting record.\n",
    "\n",
    "The data is stored in CSV format and contains no column headers.\n",
    "\n",
    "The data file can be found at the following link: https://archive.ics.uci.edu/ml/machine-learning-databases/voting-records/house-votes-84.data\n",
    "\n",
    "First let's load the data and take a look at what we've got here."
   ]
  },
  {
   "cell_type": "code",
   "execution_count": 83,
   "id": "758d42cf",
   "metadata": {},
   "outputs": [
    {
     "data": {
      "text/html": [
       "<div>\n",
       "<style scoped>\n",
       "    .dataframe tbody tr th:only-of-type {\n",
       "        vertical-align: middle;\n",
       "    }\n",
       "\n",
       "    .dataframe tbody tr th {\n",
       "        vertical-align: top;\n",
       "    }\n",
       "\n",
       "    .dataframe thead th {\n",
       "        text-align: right;\n",
       "    }\n",
       "</style>\n",
       "<table border=\"1\" class=\"dataframe\">\n",
       "  <thead>\n",
       "    <tr style=\"text-align: right;\">\n",
       "      <th></th>\n",
       "      <th>0</th>\n",
       "      <th>1</th>\n",
       "      <th>2</th>\n",
       "      <th>3</th>\n",
       "      <th>4</th>\n",
       "      <th>5</th>\n",
       "      <th>6</th>\n",
       "      <th>7</th>\n",
       "      <th>8</th>\n",
       "      <th>9</th>\n",
       "      <th>10</th>\n",
       "      <th>11</th>\n",
       "      <th>12</th>\n",
       "      <th>13</th>\n",
       "      <th>14</th>\n",
       "      <th>15</th>\n",
       "      <th>16</th>\n",
       "    </tr>\n",
       "  </thead>\n",
       "  <tbody>\n",
       "    <tr>\n",
       "      <th>0</th>\n",
       "      <td>republican</td>\n",
       "      <td>n</td>\n",
       "      <td>y</td>\n",
       "      <td>n</td>\n",
       "      <td>y</td>\n",
       "      <td>y</td>\n",
       "      <td>y</td>\n",
       "      <td>n</td>\n",
       "      <td>n</td>\n",
       "      <td>n</td>\n",
       "      <td>y</td>\n",
       "      <td>?</td>\n",
       "      <td>y</td>\n",
       "      <td>y</td>\n",
       "      <td>y</td>\n",
       "      <td>n</td>\n",
       "      <td>y</td>\n",
       "    </tr>\n",
       "    <tr>\n",
       "      <th>1</th>\n",
       "      <td>republican</td>\n",
       "      <td>n</td>\n",
       "      <td>y</td>\n",
       "      <td>n</td>\n",
       "      <td>y</td>\n",
       "      <td>y</td>\n",
       "      <td>y</td>\n",
       "      <td>n</td>\n",
       "      <td>n</td>\n",
       "      <td>n</td>\n",
       "      <td>n</td>\n",
       "      <td>n</td>\n",
       "      <td>y</td>\n",
       "      <td>y</td>\n",
       "      <td>y</td>\n",
       "      <td>n</td>\n",
       "      <td>?</td>\n",
       "    </tr>\n",
       "    <tr>\n",
       "      <th>2</th>\n",
       "      <td>democrat</td>\n",
       "      <td>?</td>\n",
       "      <td>y</td>\n",
       "      <td>y</td>\n",
       "      <td>?</td>\n",
       "      <td>y</td>\n",
       "      <td>y</td>\n",
       "      <td>n</td>\n",
       "      <td>n</td>\n",
       "      <td>n</td>\n",
       "      <td>n</td>\n",
       "      <td>y</td>\n",
       "      <td>n</td>\n",
       "      <td>y</td>\n",
       "      <td>y</td>\n",
       "      <td>n</td>\n",
       "      <td>n</td>\n",
       "    </tr>\n",
       "    <tr>\n",
       "      <th>3</th>\n",
       "      <td>democrat</td>\n",
       "      <td>n</td>\n",
       "      <td>y</td>\n",
       "      <td>y</td>\n",
       "      <td>n</td>\n",
       "      <td>?</td>\n",
       "      <td>y</td>\n",
       "      <td>n</td>\n",
       "      <td>n</td>\n",
       "      <td>n</td>\n",
       "      <td>n</td>\n",
       "      <td>y</td>\n",
       "      <td>n</td>\n",
       "      <td>y</td>\n",
       "      <td>n</td>\n",
       "      <td>n</td>\n",
       "      <td>y</td>\n",
       "    </tr>\n",
       "    <tr>\n",
       "      <th>4</th>\n",
       "      <td>democrat</td>\n",
       "      <td>y</td>\n",
       "      <td>y</td>\n",
       "      <td>y</td>\n",
       "      <td>n</td>\n",
       "      <td>y</td>\n",
       "      <td>y</td>\n",
       "      <td>n</td>\n",
       "      <td>n</td>\n",
       "      <td>n</td>\n",
       "      <td>n</td>\n",
       "      <td>y</td>\n",
       "      <td>?</td>\n",
       "      <td>y</td>\n",
       "      <td>y</td>\n",
       "      <td>y</td>\n",
       "      <td>y</td>\n",
       "    </tr>\n",
       "  </tbody>\n",
       "</table>\n",
       "</div>"
      ],
      "text/plain": [
       "           0  1  2  3  4  5  6  7  8  9  10 11 12 13 14 15 16\n",
       "0  republican  n  y  n  y  y  y  n  n  n  y  ?  y  y  y  n  y\n",
       "1  republican  n  y  n  y  y  y  n  n  n  n  n  y  y  y  n  ?\n",
       "2    democrat  ?  y  y  ?  y  y  n  n  n  n  y  n  y  y  n  n\n",
       "3    democrat  n  y  y  n  ?  y  n  n  n  n  y  n  y  n  n  y\n",
       "4    democrat  y  y  y  n  y  y  n  n  n  n  y  ?  y  y  y  y"
      ]
     },
     "execution_count": 83,
     "metadata": {},
     "output_type": "execute_result"
    }
   ],
   "source": [
    "import pandas as pd\n",
    "\n",
    "file = 'https://archive.ics.uci.edu/ml/machine-learning-databases/voting-records/house-votes-84.data'\n",
    "df = pd.read_csv(file,header=None)\n",
    "\n",
    "df.head()"
   ]
  },
  {
   "cell_type": "markdown",
   "id": "86ce4a7b",
   "metadata": {},
   "source": [
    "## Exercise 1\n",
    "\n",
    "A first look at the data tells us that we need to properly label the columns.\n",
    "\n",
    "Here is a code for the column name. \n",
    "\n",
    "0. political_party\n",
    "1. handicapped-infants\n",
    "2. water-project-cost-sharing\n",
    "3. adoption-of-the-budget-resolution\n",
    "4. physician-fee-freeze\n",
    "5. el-salvador-aid\n",
    "6. religious-groups-in-schools\n",
    "7. anti-satellite-test-ban\n",
    "8. aid-to-nicaraguan-contras\n",
    "9. mx-missile\n",
    "10. immigration\n",
    "11. synfuels-corporation-cutback\n",
    "12. education-spending\n",
    "13. superfund-right-to-sue\n",
    "14. crime\n",
    "15. duty-free-exports\n",
    "16. export-administration-act-south-africa\n",
    "\n",
    "**Rename the columns appropriately.**"
   ]
  },
  {
   "cell_type": "code",
   "execution_count": 84,
   "id": "7add41aa",
   "metadata": {},
   "outputs": [],
   "source": [
    "# solution\n",
    "df = df.rename(columns={\n",
    "    0:'political_party',\n",
    "    1:'handicapped-infants',\n",
    "    2:'water-project-cost-sharing',\n",
    "    3:'adoption-of-the-budget-resolution',\n",
    "    4:'physician-fee-freeze',\n",
    "    5:'el-salvador-aid',\n",
    "    6:'religious-groups-in-schools',\n",
    "    7:'anti-satellite-test-ban',\n",
    "    8:'aid-to-nicaraguan-contras',\n",
    "    9:'mx-missile',\n",
    "    10:'immigration',\n",
    "    11:'synfuels-corporation-cutback',\n",
    "    12:'education-spending',\n",
    "    13:'superfund-right-to-sue',\n",
    "    14:'crime',\n",
    "    15:'duty-free-exports',\n",
    "    16:'export-administration-act-south-africa'})\n",
    "# df.head()\n",
    "\n",
    "# hint\n",
    "# use df.rename() for this"
   ]
  },
  {
   "cell_type": "markdown",
   "id": "6d4af798",
   "metadata": {},
   "source": [
    "## Exercise 2\n",
    "\n",
    "Now the data set has labeled columns! Now we need to discretize the data.\n",
    "\n",
    "For each bill (column) each senator (row) voited either\n",
    "\n",
    "* n = Nay (negative)\n",
    "* y = Yay (affirmative)\n",
    "* ? = Present (neutral)\n",
    "\n",
    "Convert all of the _nays_ to **zero**, _yays_ to **one** and _present_ votes to **three**.\n",
    "\n",
    "We will also need to discretize the target variable which is _political_party_. Change _republican_ to **zero** and _democrat_ to **one**, this sets a binary identifier to the target variable.\n",
    "\n",
    "**Discretize all of the variables as described above**"
   ]
  },
  {
   "cell_type": "code",
   "execution_count": 85,
   "id": "60a8c26e",
   "metadata": {},
   "outputs": [
    {
     "data": {
      "text/html": [
       "<div>\n",
       "<style scoped>\n",
       "    .dataframe tbody tr th:only-of-type {\n",
       "        vertical-align: middle;\n",
       "    }\n",
       "\n",
       "    .dataframe tbody tr th {\n",
       "        vertical-align: top;\n",
       "    }\n",
       "\n",
       "    .dataframe thead th {\n",
       "        text-align: right;\n",
       "    }\n",
       "</style>\n",
       "<table border=\"1\" class=\"dataframe\">\n",
       "  <thead>\n",
       "    <tr style=\"text-align: right;\">\n",
       "      <th></th>\n",
       "      <th>political_party</th>\n",
       "      <th>handicapped-infants</th>\n",
       "      <th>water-project-cost-sharing</th>\n",
       "      <th>adoption-of-the-budget-resolution</th>\n",
       "      <th>physician-fee-freeze</th>\n",
       "      <th>el-salvador-aid</th>\n",
       "      <th>religious-groups-in-schools</th>\n",
       "      <th>anti-satellite-test-ban</th>\n",
       "      <th>aid-to-nicaraguan-contras</th>\n",
       "      <th>mx-missile</th>\n",
       "      <th>immigration</th>\n",
       "      <th>synfuels-corporation-cutback</th>\n",
       "      <th>education-spending</th>\n",
       "      <th>superfund-right-to-sue</th>\n",
       "      <th>crime</th>\n",
       "      <th>duty-free-exports</th>\n",
       "      <th>export-administration-act-south-africa</th>\n",
       "    </tr>\n",
       "  </thead>\n",
       "  <tbody>\n",
       "    <tr>\n",
       "      <th>0</th>\n",
       "      <td>0</td>\n",
       "      <td>0</td>\n",
       "      <td>1</td>\n",
       "      <td>0</td>\n",
       "      <td>1</td>\n",
       "      <td>1</td>\n",
       "      <td>1</td>\n",
       "      <td>0</td>\n",
       "      <td>0</td>\n",
       "      <td>0</td>\n",
       "      <td>1</td>\n",
       "      <td>3</td>\n",
       "      <td>1</td>\n",
       "      <td>1</td>\n",
       "      <td>1</td>\n",
       "      <td>0</td>\n",
       "      <td>1</td>\n",
       "    </tr>\n",
       "    <tr>\n",
       "      <th>1</th>\n",
       "      <td>0</td>\n",
       "      <td>0</td>\n",
       "      <td>1</td>\n",
       "      <td>0</td>\n",
       "      <td>1</td>\n",
       "      <td>1</td>\n",
       "      <td>1</td>\n",
       "      <td>0</td>\n",
       "      <td>0</td>\n",
       "      <td>0</td>\n",
       "      <td>0</td>\n",
       "      <td>0</td>\n",
       "      <td>1</td>\n",
       "      <td>1</td>\n",
       "      <td>1</td>\n",
       "      <td>0</td>\n",
       "      <td>3</td>\n",
       "    </tr>\n",
       "  </tbody>\n",
       "</table>\n",
       "</div>"
      ],
      "text/plain": [
       "   political_party  handicapped-infants  water-project-cost-sharing  \\\n",
       "0                0                    0                           1   \n",
       "1                0                    0                           1   \n",
       "\n",
       "   adoption-of-the-budget-resolution  physician-fee-freeze  el-salvador-aid  \\\n",
       "0                                  0                     1                1   \n",
       "1                                  0                     1                1   \n",
       "\n",
       "   religious-groups-in-schools  anti-satellite-test-ban  \\\n",
       "0                            1                        0   \n",
       "1                            1                        0   \n",
       "\n",
       "   aid-to-nicaraguan-contras  mx-missile  immigration  \\\n",
       "0                          0           0            1   \n",
       "1                          0           0            0   \n",
       "\n",
       "   synfuels-corporation-cutback  education-spending  superfund-right-to-sue  \\\n",
       "0                             3                   1                       1   \n",
       "1                             0                   1                       1   \n",
       "\n",
       "   crime  duty-free-exports  export-administration-act-south-africa  \n",
       "0      1                  0                                       1  \n",
       "1      1                  0                                       3  "
      ]
     },
     "execution_count": 85,
     "metadata": {},
     "output_type": "execute_result"
    }
   ],
   "source": [
    "# solution\n",
    "df = df.replace({'n':0, 'y':1, '?':3, 'republican':0, 'democrat':1})\n",
    "df.head(2)\n",
    "\n",
    "# hint\n",
    "# use df.replace() to map a dictionary over the string values in each column"
   ]
  },
  {
   "cell_type": "markdown",
   "id": "3c265f20",
   "metadata": {},
   "source": [
    "## Exercise 3\n",
    "\n",
    "Now our data has been conditioned and is ready to be used in a logistic regression model. Now we need to separate the feature columns from the political party column to create an unlabeled set for model development.\n",
    "\n",
    "**Set a variable _y_ as the target variable & create a _features_ variable with the non-target data columns**\n"
   ]
  },
  {
   "cell_type": "code",
   "execution_count": 86,
   "id": "d68ffe05",
   "metadata": {},
   "outputs": [],
   "source": [
    "# solution\n",
    "y = df['political_party']\n",
    "features = df.drop(columns=['political_party'])\n",
    "\n",
    "# hint\n",
    "# The y variable is one column from the data frame, the features variabkle is all remaining columns as a dataframe"
   ]
  },
  {
   "cell_type": "markdown",
   "id": "966d6058",
   "metadata": {},
   "source": [
    "## Exercise 4\n",
    "\n",
    "More often than not, it is required to normalize the distribution and variance of features included in a ML model. This will prevent any one of the features from having a biased effect on the model. \n",
    "\n",
    "Scikit-learn offers an easy tool for achieving this: _StandardScaler_. **Use this tool to normalize and transform the data**"
   ]
  },
  {
   "cell_type": "code",
   "execution_count": 87,
   "id": "b754b652",
   "metadata": {},
   "outputs": [],
   "source": [
    "# solution\n",
    "from sklearn.preprocessing import StandardScaler\n",
    "standard_scaler_fit = StandardScaler().fit(features)\n",
    "X = standard_scaler_fit.transform(features)\n",
    "\n",
    "# hint\n",
    "# from sklearn.preprocessing import StandardScaler\n",
    "# standard_scaler_fit = StandardScaler().fit('feature variable')\n",
    "# X = standard_scaler_fit.transform('feature variable')"
   ]
  },
  {
   "cell_type": "markdown",
   "id": "aa11b913",
   "metadata": {},
   "source": [
    "## Exercise 5\n",
    "\n",
    "Standard in the machine learning workflow is to split the data set into a training and testing set. The _training_ set will be used to teach the model while the _test_ set will be used to evaluate the performance of the model.\n",
    "\n",
    "scikit-learn offers another handy tool to achieve this: _train_test_split()_. At this point we have our target variable (_y_) and normalized feature variables (_X_).\n",
    "\n",
    "**Split _y_ and _X_ variables into 80% training and 20% testing set.**"
   ]
  },
  {
   "cell_type": "code",
   "execution_count": 88,
   "id": "06d68137",
   "metadata": {},
   "outputs": [],
   "source": [
    "# soution\n",
    "from sklearn.model_selection import train_test_split\n",
    "X_train, X_test, y_train, y_test = train_test_split(X, y, test_size=0.2)\n",
    "\n",
    "# hint\n",
    "# from sklearn.model_selection import train_test_split\n",
    "# X_train, X_test, y_train, y_test = train_test_split('transformed features', 'target variable', test_size='percentage ratained for testing', random_state=99)"
   ]
  },
  {
   "cell_type": "markdown",
   "id": "3a4bb816",
   "metadata": {},
   "source": [
    "## Exercise 6\n",
    "\n",
    "Awesome! After the previous conditioning steps are complete we are ready to train our model. We are planning to fit a logitistic regression model to our data which will be able to accurately determine the political party of a senator based on his voting patterns. To do this we will use _LogisticRegression()_ package from scikit-learn.\n",
    "\n",
    "* **Import LogisticRegression() from sklearn.model_selection**\n",
    "* **Setup a variable named _clf_no_reg_ as LogisticRegression()**\n",
    "* **Then fit the model using the training data set**"
   ]
  },
  {
   "cell_type": "code",
   "execution_count": 89,
   "id": "fbd6361f",
   "metadata": {},
   "outputs": [
    {
     "data": {
      "text/plain": [
       "LogisticRegression()"
      ]
     },
     "execution_count": 89,
     "metadata": {},
     "output_type": "execute_result"
    }
   ],
   "source": [
    "# solution\n",
    "from sklearn.linear_model import LogisticRegression\n",
    "\n",
    "clf = LogisticRegression()\n",
    "clf.fit(X_train, y_train)\n",
    "\n",
    "# hint \n",
    "# from sklearn.linear_model import LogisticRegression\n",
    "# clf = LogisticRegression(penalty = 'none') #(Remember to set the penalty parameter to 'none'!)\n",
    "# clf.fit('training X set', 'training y set')"
   ]
  },
  {
   "cell_type": "markdown",
   "id": "1329efb5",
   "metadata": {},
   "source": [
    "## Exercise 7\n",
    "\n",
    "Great! Now we have a model that has been fit to our test data. Next step is to evaluate our model's performance.\n",
    "\n",
    "Our model now can predict outcomes based on any random input of votes for each included senate bill. scikit-learn offers a _metrics()_ package which will allow us to calculate the f1-score easily. \n",
    "\n",
    "* **Predict _y_ variables using our model for both the test and training data sets**\n",
    "* **Import _f1_score_ from _sklearn.metrics_**\n",
    "* **Print the scores for each set to evaluate the model accuracy**"
   ]
  },
  {
   "cell_type": "code",
   "execution_count": 90,
   "id": "a416ca76",
   "metadata": {},
   "outputs": [
    {
     "name": "stdout",
     "output_type": "stream",
     "text": [
      "Training Score 0.9523809523809523\n",
      "Testing Score 0.9203539823008849\n"
     ]
    }
   ],
   "source": [
    "# solution\n",
    "from sklearn.metrics import f1_score\n",
    "y_pred_test = clf.predict(X_test)\n",
    "y_pred_train = clf.predict(X_train)\n",
    "print('Training Score', f1_score(y_train, y_pred_train))\n",
    "print('Testing Score', f1_score(y_test, y_pred_test))\n",
    "\n",
    "# hint\n",
    "# from sklearn.metrics import f1_score\n",
    "# y_pred_test = clf.predict('test X set')\n",
    "# y_pred_train = clf.predict('training X set')\n",
    "# print('Training Score', f1_score('training y set', y_pred_train))\n",
    "# print('Testing Score', f1_score('test X set', y_pred_test))"
   ]
  },
  {
   "cell_type": "markdown",
   "id": "22992ef7",
   "metadata": {},
   "source": [
    "## Exercise 8\n",
    "\n",
    "Wow! Our model works quite well. In practice the first attempt to fit a model will likely produce suboptimal results. For this reason, next steps often involve hyperparameter tuning to improve the model. \n",
    "\n",
    "There are many parameters to investigate for tuning purposes. One option is the inverse of the regularization strength which is defined by _LogisticRegression( C = x )_. This value must be a positive _float_ number. \n",
    "\n",
    "Here is an array of C-values to try: \n",
    "* C_array = [0.0001, 0.001, 0.01, 0.1, 1]\n",
    "\n",
    "**Iterate through these values, each time fitting a new model, then store the f1-score in an array for both the train and test sets**"
   ]
  },
  {
   "cell_type": "code",
   "execution_count": 91,
   "id": "6c99061a",
   "metadata": {},
   "outputs": [],
   "source": [
    "# solution\n",
    "# Coarse-grained hyperparameter tuning\n",
    "training_array = []\n",
    "test_array = []\n",
    "C_array = [0.0001, 0.001, 0.01, 0.1, 1]\n",
    "for x in C_array:\n",
    "    clf = LogisticRegression(C = x )\n",
    "    clf.fit(X_train, y_train)\n",
    "    y_pred_test = clf.predict(X_test)\n",
    "    y_pred_train = clf.predict(X_train)\n",
    "    training_array.append(f1_score(y_train, y_pred_train))\n",
    "    test_array.append(f1_score(y_test, y_pred_test))\n",
    "    "
   ]
  },
  {
   "cell_type": "markdown",
   "id": "ef25b91c",
   "metadata": {},
   "source": [
    "## Exercise 9\n",
    "\n",
    "Perfect! This practice created an array of model f1-scores which can be used to find the optimal value (aka tuning your model!)\n",
    "\n",
    "Often times visualizations offer an easier way to digest information. \n",
    "\n",
    "**Use matplotlib.pyplot to create a line plot showing the test and training set f1-score collected in the previous step.**"
   ]
  },
  {
   "cell_type": "code",
   "execution_count": 92,
   "id": "13ef800f",
   "metadata": {},
   "outputs": [
    {
     "data": {
      "image/png": "[encoded data removed]",
      "text/plain": [
       "<Figure size 432x288 with 1 Axes>"
      ]
     },
     "metadata": {
      "needs_background": "light"
     },
     "output_type": "display_data"
    },
    {
     "data": {
      "text/plain": [
       "<Figure size 432x288 with 0 Axes>"
      ]
     },
     "metadata": {},
     "output_type": "display_data"
    }
   ],
   "source": [
    "# solution\n",
    "plt.plot(C_array,training_array, label = 'Training Score')\n",
    "plt.plot(C_array,test_array, label = 'Test Score')\n",
    "plt.xscale('log')\n",
    "plt.xlabel('C')\n",
    "plt.legend()\n",
    "plt.show()\n",
    "plt.clf()\n",
    "\n",
    "# hint\n",
    "# plt.plot(C_array,training_array, label = 'Training Score')\n",
    "# plt.plot(C_array,test_array, label = 'Test Score')\n",
    "# plt.xscale('log')\n",
    "# plt.xlabel('C')\n",
    "# plt.legend()\n",
    "# plt.show()\n",
    "# plt.clf()"
   ]
  },
  {
   "cell_type": "markdown",
   "id": "e20c2e57",
   "metadata": {},
   "source": [
    "## Conclusion\n",
    "\n",
    "Amazing! from this graph we can see that a C-value of 0.1 is optimum. Now, one parameter of our model has been tuned to offer optimal performance. This step is repeated until acceptable results are found or all options are exhausted.\n",
    "\n",
    "In this lesson you have performed the basic steps associated with a typical machine learning workflow, Congratulations!"
   ]
  }
 ],
 "metadata": {
  "kernelspec": {
   "display_name": "Python 3 (ipykernel)",
   "language": "python",
   "name": "python3"
  },
  "language_info": {
   "codemirror_mode": {
    "name": "ipython",
    "version": 3
   },
   "file_extension": ".py",
   "mimetype": "text/x-python",
   "name": "python",
   "nbconvert_exporter": "python",
   "pygments_lexer": "ipython3",
   "version": "3.9.7"
  }
 },
 "nbformat": 4,
 "nbformat_minor": 5
}
